{
 "cells": [
  {
   "cell_type": "code",
   "execution_count": 2,
   "id": "810d4af0",
   "metadata": {},
   "outputs": [
    {
     "name": "stdout",
     "output_type": "stream",
     "text": [
      "enter the number 5\n",
      "factorial of 5 is\n"
     ]
    },
    {
     "data": {
      "text/plain": [
       "120"
      ]
     },
     "execution_count": 2,
     "metadata": {},
     "output_type": "execute_result"
    }
   ],
   "source": [
    "#Q1\n",
    "#factorial of a number\n",
    "def fact(n):\n",
    "    if n==1 or n==0:\n",
    "        return 1\n",
    "    else:\n",
    "        return n * fact(n-1)\n",
    "num = int(input(\"enter the number \"))\n",
    "print(\"factorial of\" , num , \"is\")\n",
    "fact(num)"
   ]
  },
  {
   "cell_type": "code",
   "execution_count": 3,
   "id": "7485c642",
   "metadata": {},
   "outputs": [
    {
     "name": "stdout",
     "output_type": "stream",
     "text": [
      "enter the number5\n",
      "5  X  1 = 5\n",
      "5  X  2 = 10\n",
      "5  X  3 = 15\n",
      "5  X  4 = 20\n",
      "5  X  5 = 25\n",
      "5  X  6 = 30\n",
      "5  X  7 = 35\n",
      "5  X  8 = 40\n",
      "5  X  9 = 45\n",
      "5  X  10 = 50\n"
     ]
    }
   ],
   "source": [
    "#Q2\n",
    "#to display multiplication table\n",
    "number = int(input(\"enter the number\"))\n",
    "for i in range(1,11):\n",
    "    print(number, ' X ', i , '=', number*i)"
   ]
  },
  {
   "cell_type": "code",
   "execution_count": 4,
   "id": "2842073a",
   "metadata": {},
   "outputs": [
    {
     "data": {
      "text/plain": [
       "[1, 1, 2, 3, 5, 8, 13, 21, 34, 55, 89, 144]"
      ]
     },
     "execution_count": 4,
     "metadata": {},
     "output_type": "execute_result"
    }
   ],
   "source": [
    "#Q3\n",
    "#fibonacci series\n",
    "def fibanoci(n):\n",
    "    h = 1\n",
    "    o = 1\n",
    "    ot = []\n",
    "    for i in range(n):\n",
    "        ot.append(h)\n",
    "        h,o = o, h+o\n",
    "    return ot\n",
    "fibanoci(12)"
   ]
  },
  {
   "cell_type": "code",
   "execution_count": 11,
   "id": "a2431ccd",
   "metadata": {},
   "outputs": [
    {
     "name": "stdout",
     "output_type": "stream",
     "text": [
      "Enter No: 0\n",
      "it is an armstrong number\n"
     ]
    }
   ],
   "source": [
    "#Q4\n",
    "#Armstrong number\n",
    "n = int(input(\"Enter No: \"))\n",
    "sum = 0\n",
    "tem = n\n",
    "while tem > 0:\n",
    "    dig = tem%10\n",
    "    sum += dig**3\n",
    "    tem //= 10\n",
    "\n",
    "if n == sum:\n",
    "    print(\"it is an armstrong number\")\n",
    "else:\n",
    "    print(\"it is not an armstrong number\")\n"
   ]
  },
  {
   "cell_type": "code",
   "execution_count": 16,
   "id": "ecefc9fc",
   "metadata": {},
   "outputs": [
    {
     "name": "stdout",
     "output_type": "stream",
     "text": [
      "For the Armstrong number series:\n",
      "Enter the starting point of the interval:1\n",
      "Enter the ending point of the interval:500\n",
      "1\n",
      "2\n",
      "3\n",
      "4\n",
      "5\n",
      "6\n",
      "7\n",
      "8\n",
      "9\n",
      "153\n",
      "370\n",
      "371\n",
      "407\n"
     ]
    }
   ],
   "source": [
    "#Q5\n",
    "#to check armstrong number in an interval\n",
    "print(\"For the Armstrong number series:\")\n",
    "a = int(input(\"Enter the starting point of the interval:\"))\n",
    "b = int(input(\"Enter the ending point of the interval:\"))\n",
    "\n",
    "for i in range(a, b + 1):\n",
    "\n",
    "    order = len(str(i))\n",
    "    sum = 0\n",
    "\n",
    "    temp = i\n",
    "    while temp > 0:\n",
    "        digit = temp % 10\n",
    "        sum += digit ** order\n",
    "        temp //= 10\n",
    "\n",
    "    if i == sum:\n",
    "        print(i)"
   ]
  },
  {
   "cell_type": "code",
   "execution_count": 19,
   "id": "d655d161",
   "metadata": {},
   "outputs": [
    {
     "name": "stdout",
     "output_type": "stream",
     "text": [
      "Enter the value of integer:234\n",
      "The sum of all the number is: \n",
      "27495\n"
     ]
    }
   ],
   "source": [
    "#Q6\n",
    "#to find the sum of natural numbers\n",
    "a = int(input(\"Enter the value of integer:\"))\n",
    "print(\"The sum of all the number is: \")\n",
    "sum = 0\n",
    "for i in range(1, a + 1):\n",
    "    sum = sum + i\n",
    "print(sum)"
   ]
  },
  {
   "cell_type": "code",
   "execution_count": null,
   "id": "39e8c107",
   "metadata": {},
   "outputs": [],
   "source": []
  }
 ],
 "metadata": {
  "kernelspec": {
   "display_name": "Python 3",
   "language": "python",
   "name": "python3"
  },
  "language_info": {
   "codemirror_mode": {
    "name": "ipython",
    "version": 3
   },
   "file_extension": ".py",
   "mimetype": "text/x-python",
   "name": "python",
   "nbconvert_exporter": "python",
   "pygments_lexer": "ipython3",
   "version": "3.8.8"
  }
 },
 "nbformat": 4,
 "nbformat_minor": 5
}
